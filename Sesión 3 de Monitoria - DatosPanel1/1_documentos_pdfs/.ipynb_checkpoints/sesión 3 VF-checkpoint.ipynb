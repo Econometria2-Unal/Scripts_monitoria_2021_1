{
 "cells": [
  {
   "cell_type": "raw",
   "metadata": {},
   "source": [
    "---\n",
    "title: \"Sesión 3 - Importación de bases de datos como panel en Rstudio\"\n",
    "author: \"Juan Camilo Forero- Germán C. Rodriguez - Jhan Andrade\"\n",
    "date: \"21/9/2020\"\n",
    "output:\n",
    "  pdf_document: default\n",
    "  html_document: default\n",
    "---"
   ]
  },
  {
   "cell_type": "markdown",
   "metadata": {},
   "source": [
    "# Instalación de Paquetes "
   ]
  },
  {
   "cell_type": "code",
   "execution_count": null,
   "metadata": {
    "lines_to_next_cell": 2,
    "name": "setup",
    "tags": [
     "remove_cell"
    ]
   },
   "outputs": [],
   "source": [
    "knitr::opts_chunk$set(echo = TRUE)"
   ]
  },
  {
   "cell_type": "markdown",
   "metadata": {
    "lines_to_next_cell": 0
   },
   "source": [
    "Los paquetes que se van a utilizar son:"
   ]
  },
  {
   "cell_type": "code",
   "execution_count": null,
   "metadata": {
    "message": false
   },
   "outputs": [],
   "source": [
    "#install.packages(\"plm\")         #Panel linear models \n",
    "#install.packages(\"gplots\")      #Tools for plotting data \n",
    "#install.packages(\"stargazer\")   #Tablas más estéticas \n",
    "#install.packages(\"foreing\")     #Importar datos \n",
    "#install.packages(\"sandwich\")    #Estimador de errores robustos \n",
    "#install.packages(\"lmtest\")      #Inferencia estadística para modelos lineales \n",
    "#install.packages(\"tseries\")\n",
    "#install.packages(\"wooldridge\")  #Bases de datos que se encuentran en Wooldridge\n",
    "#install.packages(\"AER\")         #AER contiene estimadores como tobit y variables instrumentales (IV)\n",
    "                                   \n",
    "#install.packages(\"dplyr\")\n",
    "\n",
    "library(plm);library(gplots);library(stargazer)\n",
    "library(foreign);library(sandwich);library(lmtest)\n",
    "library(tseries);library(wooldridge);library(AER);library(dplyr)\n"
   ]
  },
  {
   "cell_type": "markdown",
   "metadata": {},
   "source": [
    "# Importación de base de datos \n",
    "\n",
    "Para este ejercicio trabajaremos una base de datos que se encuentra en la memoria de Rstudio. En este caso, se empleará un ejemplo adaptado de **Introduction to Econometrics with R**  de *Christoph Hanck, Martin Arnold, Alexander Gerber and Martin Schmelze* \n",
    "\n",
    "Para quien quiera profundizar más en dicho libro, se adjunta el enlace: \n",
    "+ https://www.econometrics-with-r.org/index.html"
   ]
  },
  {
   "cell_type": "markdown",
   "metadata": {},
   "source": [
    "## Cargamos la base de datos "
   ]
  },
  {
   "cell_type": "code",
   "execution_count": null,
   "metadata": {},
   "outputs": [],
   "source": [
    "data(\"Fatalities\")  # Base de datos importada desde la libreria AER\n",
    "help(\"Fatalities\") "
   ]
  },
  {
   "cell_type": "markdown",
   "metadata": {},
   "source": [
    "Para usar la función glimpse es necesario cargar el paquete dplyr."
   ]
  },
  {
   "cell_type": "code",
   "execution_count": null,
   "metadata": {},
   "outputs": [],
   "source": [
    "# class(Fatalities) # Se importa la base de datos como un data frame\n",
    "# dim(Fatalities) # Da las dimensiones del data frame (336 obs y 34 variables)\n"
   ]
  },
  {
   "cell_type": "markdown",
   "metadata": {
    "lines_to_next_cell": 0
   },
   "source": [
    "Se indeca la base de datos \"Fatalities\" en formato panel: "
   ]
  },
  {
   "cell_type": "code",
   "execution_count": null,
   "metadata": {
    "lines_to_next_cell": 0
   },
   "outputs": [],
   "source": [
    "Panel= pdata.frame(Fatalities, index = c(\"state\",\"year\"))\n",
    "\n",
    "attach(Panel)\n",
    "class(Panel)   # el objeto ahora es un tipo especial de data frame llamado pdata.frame\n",
    "#help(\"pdata.frame\")"
   ]
  },
  {
   "cell_type": "markdown",
   "metadata": {
    "lines_to_next_cell": 0
   },
   "source": [
    "Hay que tener en cuenta la estructura del código para indexar como panel la base: \n",
    "\n",
    "+ *Nombre <- pdata.frame(Base_datos, index=c(\"Variable del individuo\",\"Variable de tiempo\"))*\n",
    "\n",
    "Primero va la variable indicativa del individuo y luego la variable indicativa del tiempo. \n",
    "\n",
    "La base de datos a emplear tiene la siguiente descripción: \n",
    "\n",
    "+ US traffic fatalities panel data for the \"lower 48\" US states (i.e., excluding Alaska and Hawaii), annually for 1982 through 1988 state and year are the individual and time index respectively\n",
    "\n",
    "Se define la tasa de mortalidad como:"
   ]
  },
  {
   "cell_type": "code",
   "execution_count": null,
   "metadata": {
    "lines_to_next_cell": 0
   },
   "outputs": [],
   "source": [
    "Panel$fatal_rate <- Fatalities$fatal / Fatalities$pop * 100"
   ]
  },
  {
   "cell_type": "code",
   "execution_count": null,
   "metadata": {},
   "outputs": [],
   "source": [
    "#Para extraer una variable del panel (e.g. pop de Panel)\n",
    "#Panel$pop    #La extracción de una variable es igual que para un data frame normal \n",
    "#La extracción incluye los dos indices del panel para cada observación              \n",
    "\n",
    "# Para extraer solo los indices de cada observación del panel \n",
    "#index(Panel)  # Retorna un df cuyas dos variables son los dos índices\n"
   ]
  },
  {
   "cell_type": "markdown",
   "metadata": {
    "lines_to_next_cell": 0
   },
   "source": [
    "Para conocer las dimensiones del panel y determinar si un panel está balanceado, se emplea el comando pdim"
   ]
  },
  {
   "cell_type": "code",
   "execution_count": null,
   "metadata": {},
   "outputs": [],
   "source": [
    "pdim(Panel)"
   ]
  },
  {
   "cell_type": "markdown",
   "metadata": {},
   "source": [
    "Con la siguiente función se identifica a aquellas variables que cambian a lo largo del tiempo (pero que son constantes para todos los individuos) y aquellas variables que cambian entre individuos (pero que son constantes a lo largo del tiempo)"
   ]
  },
  {
   "cell_type": "code",
   "execution_count": null,
   "metadata": {},
   "outputs": [],
   "source": [
    "pvar(Panel)"
   ]
  },
  {
   "cell_type": "markdown",
   "metadata": {
    "lines_to_next_cell": 0
   },
   "source": [
    "# Estimación de modelos para datos panel \n",
    "\n",
    "Para estimar los distintos modelos de datos panel se utiliza el comando ***plm***. La estructura del codigo es bastante sencilla: \n",
    "\n",
    "+ *plm(Var_explicada~ Var_explicativas, data=\"---\", model=\"---\", index=c(\"Var_individuo\",\"Var_tiempo\"))\n",
    "\n",
    "Para *model* se puede elegir entre Efectos fijos(**within**), Efectos Aleatorios (**random**) y Mínimos Cuadrados Combinados(**pooling**)\n",
    "    \n",
    "Directamente en el código también se puede indexar la base de datos, en caso de que no se le haya indicado antes a RStudioque la base de datos es un panel. \n",
    "    \n",
    "## Minimos Cuadrados Combinados \n",
    "Para estimar un modelo de Mínimos Cuadrados Combinados el tipo de modelo es *\"pooling*"
   ]
  },
  {
   "cell_type": "code",
   "execution_count": null,
   "metadata": {
    "lines_to_next_cell": 2
   },
   "outputs": [],
   "source": [
    "fatalities_pooled <- plm(fatal_rate~ beertax +drinkage + unemp + log(income), \n",
    "                         index = c(\"state\", \"year\"),\n",
    "                         model = \"pooling\",\n",
    "                         data = Panel)\n",
    "\n"
   ]
  },
  {
   "cell_type": "markdown",
   "metadata": {
    "lines_to_next_cell": 0
   },
   "source": [
    "## Efectos fijos \n",
    "Para estimar un modelo de Efectos fijos el tipo de modelo es *\"within\"*"
   ]
  },
  {
   "cell_type": "code",
   "execution_count": null,
   "metadata": {},
   "outputs": [],
   "source": [
    "fatalities_FE <- plm(fatal_rate ~ beertax +drinkage + unemp + log(income), \n",
    "                     index = c(\"state\", \"year\"),\n",
    "                     model = \"within\",\n",
    "                     data = Panel)\n"
   ]
  },
  {
   "cell_type": "markdown",
   "metadata": {},
   "source": [
    "## Efectos aleatorios\n",
    "Para estimar un modelo de Efectos aleatorios el tipo de modelo es *\"Random\"* "
   ]
  },
  {
   "cell_type": "code",
   "execution_count": null,
   "metadata": {},
   "outputs": [],
   "source": [
    "fatalities_EA <- plm(fatal_rate ~ beertax +drinkage + unemp + log(income), \n",
    "                     index = c(\"state\", \"year\"),\n",
    "                     model = \"random\",\n",
    "                     data = Panel)\n"
   ]
  },
  {
   "cell_type": "markdown",
   "metadata": {
    "lines_to_next_cell": 0
   },
   "source": [
    "El $\\theta$ se puede calcular despejando de la formula teórica de la transformación que se realiza con Efectos Aleatorios. \n",
    "\n",
    "$$ \\hat{\\theta_{it}}= \\frac{y_{it}-\\hat{y_{it}}-\\hat{u_{it}}}{\\overline{y}}  $$\n",
    "Luego, el $\\theta$ para este ejemplo es: "
   ]
  },
  {
   "cell_type": "code",
   "execution_count": null,
   "metadata": {},
   "outputs": [],
   "source": [
    "fitted.values(fatalities_EA)[1:7] #valores ajustados de Y para el primer individuo\n",
    "attach(Panel)\n",
    "fatal_rate[1:7]#valores observados de Y para el primer individuo\n",
    "mean(fatal_rate[1:7]) #valor promedio de Y para el primer individuo\n",
    "residuals(fatalities_EA)[1:7] #Residuales para el primer individuo\n",
    "theta = (fatal_rate[1:7]-fitted.values(fatalities_EA)[1:7]-residuals(fatalities_EA)[1:7])/mean(fatal_rate[1:7])\n",
    "theta\n"
   ]
  },
  {
   "cell_type": "markdown",
   "metadata": {},
   "source": [
    "## Primeras diferencias\n",
    "Para estimar un modelo de Primeras diferencias el tipo de modelo es *\"fd\"* "
   ]
  },
  {
   "cell_type": "code",
   "execution_count": null,
   "metadata": {},
   "outputs": [],
   "source": [
    "fatalities_FD <- plm(fatal_rate ~ beertax +drinkage + unemp + log(income), \n",
    "                     index = c(\"state\", \"year\"),\n",
    "                     model = \"fd\",\n",
    "                     data = Panel)"
   ]
  },
  {
   "cell_type": "markdown",
   "metadata": {
    "lines_to_next_cell": 0
   },
   "source": [
    "Para presentar los resultados se hace uso de la función Stargazer"
   ]
  },
  {
   "cell_type": "code",
   "execution_count": null,
   "metadata": {},
   "outputs": [],
   "source": [
    "stargazer(fatalities_pooled,fatalities_FE, fatalities_EA, fatalities_FD, digits = 3,\n",
    "          header = F, type = \"text\", \n",
    "          title = \"Modelo de catástrofes de tránsito por conducir en estado de ebriedad\", \n",
    "          column.labels = c(\"Pooled\",\"EF\",\"RE\",\"PD\"))\n"
   ]
  },
  {
   "cell_type": "markdown",
   "metadata": {},
   "source": [
    "Llegados a este punto, los elementos abordados fueron: i) identificar la forma como se indexa una base de datos en formato panel;ii) estimar los modelos de datos panel de EF, EA, PD y Pooling utilizando el comando ***plm***;y, iii) presentar los resultados por medio de la función stargazer.\n",
    "\n",
    " "
   ]
  }
 ],
 "metadata": {
  "jupytext": {
   "cell_metadata_filter": "tags,message,name,-all",
   "main_language": "R",
   "notebook_metadata_filter": "-all"
  }
 },
 "nbformat": 4,
 "nbformat_minor": 4
}
