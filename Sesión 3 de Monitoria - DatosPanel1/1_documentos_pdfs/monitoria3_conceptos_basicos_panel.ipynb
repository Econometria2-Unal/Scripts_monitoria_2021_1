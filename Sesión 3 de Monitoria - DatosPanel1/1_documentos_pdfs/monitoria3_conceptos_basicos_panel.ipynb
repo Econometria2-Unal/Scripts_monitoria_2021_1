{
 "cells": [
  {
   "cell_type": "raw",
   "metadata": {},
   "source": [
    "---\n",
    "title: \"Sesión 3 - Importación de bases de datos como panel en Rstudio\"\n",
    "author: \"Juan Camilo Forero- Germán C. Rodriguez - Jhan Andrade\"\n",
    "date: \"21/9/2020\"\n",
    "output:\n",
    "  pdf_document: default\n",
    "  html_document: default\n",
    "---"
   ]
  },
  {
   "cell_type": "markdown",
   "metadata": {},
   "source": [
    "# Instalación de Paquetes "
   ]
  },
  {
   "cell_type": "code",
   "execution_count": 1,
   "metadata": {
    "lines_to_next_cell": 2,
    "name": "setup",
    "tags": [
     "remove_cell"
    ]
   },
   "outputs": [],
   "source": [
    "knitr::opts_chunk$set(echo = TRUE)"
   ]
  },
  {
   "cell_type": "markdown",
   "metadata": {
    "lines_to_next_cell": 0
   },
   "source": [
    "Los paquetes que se van a utilizar son:"
   ]
  },
  {
   "cell_type": "code",
   "execution_count": 2,
   "metadata": {
    "message": false
   },
   "outputs": [
    {
     "name": "stderr",
     "output_type": "stream",
     "text": [
      "\n",
      "Attaching package: ‘gplots’\n",
      "\n",
      "\n",
      "The following object is masked from ‘package:stats’:\n",
      "\n",
      "    lowess\n",
      "\n",
      "\n",
      "\n",
      "Please cite as: \n",
      "\n",
      "\n",
      " Hlavac, Marek (2018). stargazer: Well-Formatted Regression and Summary Statistics Tables.\n",
      "\n",
      " R package version 5.2.2. https://CRAN.R-project.org/package=stargazer \n",
      "\n",
      "\n",
      "Loading required package: zoo\n",
      "\n",
      "\n",
      "Attaching package: ‘zoo’\n",
      "\n",
      "\n",
      "The following objects are masked from ‘package:base’:\n",
      "\n",
      "    as.Date, as.Date.numeric\n",
      "\n",
      "\n",
      "Registered S3 method overwritten by 'quantmod':\n",
      "  method            from\n",
      "  as.zoo.data.frame zoo \n",
      "\n",
      "Loading required package: car\n",
      "\n",
      "Loading required package: carData\n",
      "\n",
      "Loading required package: survival\n",
      "\n",
      "\n",
      "Attaching package: ‘dplyr’\n",
      "\n",
      "\n",
      "The following object is masked from ‘package:car’:\n",
      "\n",
      "    recode\n",
      "\n",
      "\n",
      "The following objects are masked from ‘package:plm’:\n",
      "\n",
      "    between, lag, lead\n",
      "\n",
      "\n",
      "The following objects are masked from ‘package:stats’:\n",
      "\n",
      "    filter, lag\n",
      "\n",
      "\n",
      "The following objects are masked from ‘package:base’:\n",
      "\n",
      "    intersect, setdiff, setequal, union\n",
      "\n",
      "\n"
     ]
    }
   ],
   "source": [
    "#install.packages(\"plm\")         #Panel linear models \n",
    "#install.packages(\"gplots\")      #Tools for plotting data \n",
    "#install.packages(\"stargazer\")   #Tablas más estéticas \n",
    "#install.packages(\"foreing\")     #Importar datos \n",
    "#install.packages(\"sandwich\")    #Estimador de errores robustos \n",
    "#install.packages(\"lmtest\")      #Inferencia estadística para modelos lineales \n",
    "#install.packages(\"tseries\")\n",
    "#install.packages(\"wooldridge\")  #Bases de datos que se encuentran en Wooldridge\n",
    "#install.packages(\"AER\")         #AER contiene estimadores como tobit y variables instrumentales (IV)\n",
    "                                   \n",
    "#install.packages(\"dplyr\")\n",
    "\n",
    "library(plm);library(gplots);library(stargazer)\n",
    "library(foreign);library(sandwich);library(lmtest)\n",
    "library(tseries);library(wooldridge);library(AER);library(dplyr)\n"
   ]
  },
  {
   "cell_type": "markdown",
   "metadata": {},
   "source": [
    "# Importación de base de datos \n",
    "\n",
    "Para este ejercicio trabajaremos una base de datos que se encuentra en la memoria de Rstudio. En este caso, se empleará un ejemplo adaptado de **Introduction to Econometrics with R**  de *Christoph Hanck, Martin Arnold, Alexander Gerber and Martin Schmelze* \n",
    "\n",
    "Para quien quiera profundizar más en dicho libro, se adjunta el enlace: \n",
    "+ https://www.econometrics-with-r.org/index.html"
   ]
  },
  {
   "cell_type": "markdown",
   "metadata": {},
   "source": [
    "## Cargamos la base de datos "
   ]
  },
  {
   "cell_type": "code",
   "execution_count": 3,
   "metadata": {},
   "outputs": [
    {
     "data": {
      "text/html": [
       "\n",
       "<table width=\"100%\" summary=\"page for Fatalities {AER}\"><tr><td>Fatalities {AER}</td><td style=\"text-align: right;\">R Documentation</td></tr></table>\n",
       "\n",
       "<h2>US Traffic Fatalities</h2>\n",
       "\n",
       "<h3>Description</h3>\n",
       "\n",
       "<p>US traffic fatalities panel data for the &ldquo;lower 48&rdquo; US states \n",
       "(i.e., excluding Alaska and Hawaii), annually for 1982 through 1988.  \n",
       "</p>\n",
       "\n",
       "\n",
       "<h3>Usage</h3>\n",
       "\n",
       "<pre>data(\"Fatalities\")</pre>\n",
       "\n",
       "\n",
       "<h3>Format</h3>\n",
       "\n",
       "<p>A data frame containing 336 observations on 34 variables.\n",
       "</p>\n",
       "\n",
       "<dl>\n",
       "<dt>state</dt><dd><p>factor indicating state.</p>\n",
       "</dd>\n",
       "<dt>year</dt><dd><p>factor indicating year.</p>\n",
       "</dd>\n",
       "<dt>spirits</dt><dd><p>numeric. Spirits consumption.</p>\n",
       "</dd>\n",
       "<dt>unemp</dt><dd><p>numeric. Unemployment rate.</p>\n",
       "</dd>\n",
       "<dt>income</dt><dd><p>numeric. Per capita personal income in 1987 dollars.</p>\n",
       "</dd>  \n",
       "<dt>emppop</dt><dd><p>numeric. Employment/population ratio.</p>\n",
       "</dd>\n",
       "<dt>beertax</dt><dd><p>numeric. Tax on case of beer.</p>\n",
       "</dd>\n",
       "<dt>baptist</dt><dd><p>numeric. Percent of southern baptist.</p>\n",
       "</dd>\n",
       "<dt>mormon</dt><dd><p>numeric. Percent of mormon.</p>\n",
       "</dd>\n",
       "<dt>drinkage</dt><dd><p>numeric. Minimum legal drinking age.</p>\n",
       "</dd>   \n",
       "<dt>dry</dt><dd><p>numeric. Percent residing in &ldquo;dry&rdquo; countries.</p>\n",
       "</dd>\n",
       "<dt>youngdrivers</dt><dd><p>numeric. Percent of drivers aged 15&ndash;24.</p>\n",
       "</dd>\n",
       "<dt>miles</dt><dd><p>numeric. Average miles per driver.</p>\n",
       "</dd>\n",
       "<dt>breath</dt><dd><p>factor. Preliminary breath test law?</p>\n",
       "</dd>\n",
       "<dt>jail</dt><dd><p>factor. Mandatory jail sentence?</p>\n",
       "</dd>\n",
       "<dt>service</dt><dd><p>factor. Mandatory community service?</p>\n",
       "</dd>\n",
       "<dt>fatal</dt><dd><p>numeric. Number of vehicle fatalities.</p>\n",
       "</dd>\n",
       "<dt>nfatal</dt><dd><p>numeric. Number of night-time vehicle fatalities.</p>\n",
       "</dd>  \n",
       "<dt>sfatal</dt><dd><p>numeric. Number of single vehicle fatalities.</p>\n",
       "</dd>    \n",
       "<dt>fatal1517</dt><dd><p>numeric. Number of vehicle fatalities, 15&ndash;17 year olds.</p>\n",
       "</dd>    \n",
       "<dt>nfatal1517</dt><dd><p>numeric. Number of night-time vehicle fatalities, 15&ndash;17 year olds.</p>\n",
       "</dd>  \n",
       "<dt>fatal1820</dt><dd><p>numeric. Number of vehicle fatalities, 18&ndash;20 year olds.</p>\n",
       "</dd>    \n",
       "<dt>nfatal1820</dt><dd><p>numeric. Number of night-time vehicle fatalities, 18&ndash;20 year olds.</p>\n",
       "</dd>  \n",
       "<dt>fatal2124</dt><dd><p>numeric. Number of vehicle fatalities, 21&ndash;24 year olds.</p>\n",
       "</dd>    \n",
       "<dt>nfatal2124</dt><dd><p>numeric. Number of night-time vehicle fatalities, 21&ndash;24 year olds.</p>\n",
       "</dd>  \n",
       "<dt>afatal</dt><dd><p>numeric. Number of alcohol-involved vehicle fatalities.</p>\n",
       "</dd>    \n",
       "<dt>pop</dt><dd><p>numeric. Population.</p>\n",
       "</dd>  \n",
       "<dt>pop1517</dt><dd><p>numeric. Population, 15&ndash;17 year olds.</p>\n",
       "</dd>  \n",
       "<dt>pop1820</dt><dd><p>numeric. Population, 18&ndash;20 year olds.</p>\n",
       "</dd>    \n",
       "<dt>pop2124</dt><dd><p>numeric. Population, 21&ndash;24 year olds.</p>\n",
       "</dd>      \n",
       "<dt>milestot</dt><dd><p>numeric. Total vehicle miles (millions).</p>\n",
       "</dd>      \n",
       "<dt>unempus</dt><dd><p>numeric. US unemployment rate.</p>\n",
       "</dd>        \n",
       "<dt>emppopus</dt><dd><p>numeric. US employment/population ratio.</p>\n",
       "</dd>          \n",
       "<dt>gsp</dt><dd><p>numeric. GSP rate of change.</p>\n",
       "</dd>          \n",
       "</dl>\n",
       "\n",
       "\n",
       "\n",
       "<h3>Details</h3>\n",
       "\n",
       "<p>Traffic fatalities are from the US Department of \n",
       "Transportation Fatal Accident Reporting System.  The beer tax is the \n",
       "tax on a case of beer, which is an available measure of state \n",
       "alcohol taxes more generally. The drinking age variable is a factor \n",
       "indicating whether the legal drinking age is 18, 19, or 20.  \n",
       "The two binary punishment variables  describe the state's minimum \n",
       "sentencing requirements for an initial drunk driving conviction. \n",
       "</p>\n",
       "<p>Total vehicle miles traveled annually by state was obtained from \n",
       "the Department of Transportation. Personal income was obtained \n",
       "from the US Bureau of Economic Analysis, and the unemployment \n",
       "rate was obtained from the US Bureau of Labor Statistics.\n",
       "</p>\n",
       "\n",
       "\n",
       "<h3>Source</h3>\n",
       "\n",
       "<p>Online complements to Stock and Watson (2007). \n",
       "</p>\n",
       "\n",
       "\n",
       "<h3>References</h3>\n",
       "\n",
       "<p>Ruhm, C. J. (1996). Alcohol Policies and Highway Vehicle Fatalities. \n",
       "<em>Journal of Health Economics</em>, <b>15</b>, 435&ndash;454.\n",
       "</p>\n",
       "<p>Stock, J. H. and Watson, M. W. (2007). <em>Introduction to Econometrics</em>, 2nd ed. Boston: Addison Wesley.\n",
       "</p>\n",
       "\n",
       "\n",
       "<h3>See Also</h3>\n",
       "\n",
       "<p><code>StockWatson2007</code></p>\n",
       "\n",
       "\n",
       "<h3>Examples</h3>\n",
       "\n",
       "<pre>\n",
       "## data from Stock and Watson (2007)\n",
       "data(\"Fatalities\", package = \"AER\")\n",
       "## add fatality rate (number of traffic deaths\n",
       "## per 10,000 people living in that state in that year)\n",
       "Fatalities$frate &lt;- with(Fatalities, fatal/pop * 10000)\n",
       "## add discretized version of minimum legal drinking age\n",
       "Fatalities$drinkagec &lt;- cut(Fatalities$drinkage,\n",
       "  breaks = 18:22, include.lowest = TRUE, right = FALSE)\n",
       "Fatalities$drinkagec &lt;- relevel(Fatalities$drinkagec, ref = 4)\n",
       "## any punishment?\n",
       "Fatalities$punish &lt;- with(Fatalities,\n",
       "  factor(jail == \"yes\" | service == \"yes\", labels = c(\"no\", \"yes\")))\n",
       "## plm package\n",
       "library(\"plm\")\n",
       "\n",
       "## for comparability with Stata we use HC1 below\n",
       "## p. 351, Eq. (10.2)\n",
       "f1982 &lt;- subset(Fatalities, year == \"1982\")\n",
       "fm_1982 &lt;- lm(frate ~ beertax, data = f1982)\n",
       "coeftest(fm_1982, vcov = vcovHC(fm_1982, type = \"HC1\"))\n",
       "\n",
       "## p. 353, Eq. (10.3)\n",
       "f1988 &lt;- subset(Fatalities, year == \"1988\")\n",
       "fm_1988 &lt;- lm(frate ~ beertax, data = f1988)\n",
       "coeftest(fm_1988, vcov = vcovHC(fm_1988, type = \"HC1\"))\n",
       "\n",
       "## pp. 355, Eq. (10.8)\n",
       "fm_diff &lt;- lm(I(f1988$frate - f1982$frate) ~ I(f1988$beertax - f1982$beertax))\n",
       "coeftest(fm_diff, vcov = vcovHC(fm_diff, type = \"HC1\"))\n",
       "\n",
       "## pp. 360, Eq. (10.15)\n",
       "##   (1) via formula\n",
       "fm_sfe &lt;- lm(frate ~ beertax + state - 1, data = Fatalities)\n",
       "##   (2) by hand\n",
       "fat &lt;- with(Fatalities,\n",
       "  data.frame(frates = frate - ave(frate, state),\n",
       "  beertaxs = beertax - ave(beertax, state)))\n",
       "fm_sfe2 &lt;- lm(frates ~ beertaxs - 1, data = fat)\n",
       "##   (3) via plm()\n",
       "fm_sfe3 &lt;- plm(frate ~ beertax, data = Fatalities,\n",
       "  index = c(\"state\", \"year\"), model = \"within\")\n",
       "\n",
       "coeftest(fm_sfe, vcov = vcovHC(fm_sfe, type = \"HC1\"))[1,]\n",
       "## uses different df in sd and p-value\n",
       "coeftest(fm_sfe2, vcov = vcovHC(fm_sfe2, type = \"HC1\"))[1,]\n",
       "## uses different df in p-value\n",
       "coeftest(fm_sfe3, vcov = vcovHC(fm_sfe3, type = \"HC1\", method = \"white1\"))[1,]\n",
       "\n",
       "\n",
       "## pp. 363, Eq. (10.21)\n",
       "## via lm()\n",
       "fm_stfe &lt;- lm(frate ~ beertax + state + year - 1, data = Fatalities)\n",
       "coeftest(fm_stfe, vcov = vcovHC(fm_stfe, type = \"HC1\"))[1,]\n",
       "## via plm()\n",
       "fm_stfe2 &lt;- plm(frate ~ beertax, data = Fatalities,\n",
       "  index = c(\"state\", \"year\"), model = \"within\", effect = \"twoways\")\n",
       "coeftest(fm_stfe2, vcov = vcovHC) ## different\n",
       "\n",
       "\n",
       "## p. 368, Table 10.1, numbers refer to cols.\n",
       "fm1 &lt;- plm(frate ~ beertax, data = Fatalities, index = c(\"state\", \"year\"), model = \"pooling\")\n",
       "fm2 &lt;- plm(frate ~ beertax, data = Fatalities, index = c(\"state\", \"year\"), model = \"within\")\n",
       "fm3 &lt;- plm(frate ~ beertax, data = Fatalities, index = c(\"state\", \"year\"), model = \"within\",\n",
       "  effect = \"twoways\")\n",
       "fm4 &lt;- plm(frate ~ beertax + drinkagec + jail + service + miles + unemp + log(income),\n",
       "  data = Fatalities, index = c(\"state\", \"year\"), model = \"within\", effect = \"twoways\")\n",
       "fm5 &lt;- plm(frate ~ beertax + drinkagec + jail + service + miles,\n",
       "  data = Fatalities, index = c(\"state\", \"year\"), model = \"within\", effect = \"twoways\")\n",
       "fm6 &lt;- plm(frate ~ beertax + drinkage + punish + miles + unemp + log(income),\n",
       "  data = Fatalities, index = c(\"state\", \"year\"), model = \"within\", effect = \"twoways\")\n",
       "fm7 &lt;- plm(frate ~ beertax + drinkagec + jail + service + miles + unemp + log(income),\n",
       "  data = Fatalities, index = c(\"state\", \"year\"), model = \"within\", effect = \"twoways\")\n",
       "## summaries not too close, s.e.s generally too small\n",
       "coeftest(fm1, vcov = vcovHC)\n",
       "coeftest(fm2, vcov = vcovHC)\n",
       "coeftest(fm3, vcov = vcovHC)\n",
       "coeftest(fm4, vcov = vcovHC)\n",
       "coeftest(fm5, vcov = vcovHC)\n",
       "coeftest(fm6, vcov = vcovHC)\n",
       "coeftest(fm7, vcov = vcovHC)\n",
       "\n",
       "## TODO: Testing exclusion restrictions\n",
       "\n",
       "</pre>\n",
       "\n",
       "<hr /><div style=\"text-align: center;\">[Package <em>AER</em> version 1.2-9 ]</div>"
      ],
      "text/latex": [
       "\\inputencoding{utf8}\n",
       "\\HeaderA{Fatalities}{US Traffic Fatalities}{Fatalities}\n",
       "\\keyword{datasets}{Fatalities}\n",
       "%\n",
       "\\begin{Description}\\relax\n",
       "US traffic fatalities panel data for the ``lower 48'' US states \n",
       "(i.e., excluding Alaska and Hawaii), annually for 1982 through 1988.  \n",
       "\\end{Description}\n",
       "%\n",
       "\\begin{Usage}\n",
       "\\begin{verbatim}\n",
       "data(\"Fatalities\")\n",
       "\\end{verbatim}\n",
       "\\end{Usage}\n",
       "%\n",
       "\\begin{Format}\n",
       "A data frame containing 336 observations on 34 variables.\n",
       "\\begin{description}\n",
       "\n",
       "\\item[state] factor indicating state.\n",
       "\\item[year] factor indicating year.\n",
       "\\item[spirits] numeric. Spirits consumption.\n",
       "\\item[unemp] numeric. Unemployment rate.\n",
       "\\item[income] numeric. Per capita personal income in 1987 dollars. \n",
       "\\item[emppop] numeric. Employment/population ratio.\n",
       "\\item[beertax] numeric. Tax on case of beer.\n",
       "\\item[baptist] numeric. Percent of southern baptist.\n",
       "\\item[mormon] numeric. Percent of mormon.\n",
       "\\item[drinkage] numeric. Minimum legal drinking age.  \n",
       "\\item[dry] numeric. Percent residing in ``dry'' countries.\n",
       "\\item[youngdrivers] numeric. Percent of drivers aged 15--24.\n",
       "\\item[miles] numeric. Average miles per driver.\n",
       "\\item[breath] factor. Preliminary breath test law?\n",
       "\\item[jail] factor. Mandatory jail sentence?\n",
       "\\item[service] factor. Mandatory community service?\n",
       "\\item[fatal] numeric. Number of vehicle fatalities.\n",
       "\\item[nfatal] numeric. Number of night-time vehicle fatalities. \n",
       "\\item[sfatal] numeric. Number of single vehicle fatalities.   \n",
       "\\item[fatal1517] numeric. Number of vehicle fatalities, 15--17 year olds.   \n",
       "\\item[nfatal1517] numeric. Number of night-time vehicle fatalities, 15--17 year olds. \n",
       "\\item[fatal1820] numeric. Number of vehicle fatalities, 18--20 year olds.   \n",
       "\\item[nfatal1820] numeric. Number of night-time vehicle fatalities, 18--20 year olds. \n",
       "\\item[fatal2124] numeric. Number of vehicle fatalities, 21--24 year olds.   \n",
       "\\item[nfatal2124] numeric. Number of night-time vehicle fatalities, 21--24 year olds. \n",
       "\\item[afatal] numeric. Number of alcohol-involved vehicle fatalities.   \n",
       "\\item[pop] numeric. Population. \n",
       "\\item[pop1517] numeric. Population, 15--17 year olds. \n",
       "\\item[pop1820] numeric. Population, 18--20 year olds.   \n",
       "\\item[pop2124] numeric. Population, 21--24 year olds.     \n",
       "\\item[milestot] numeric. Total vehicle miles (millions).     \n",
       "\\item[unempus] numeric. US unemployment rate.       \n",
       "\\item[emppopus] numeric. US employment/population ratio.         \n",
       "\\item[gsp] numeric. GSP rate of change.         \n",
       "\n",
       "\\end{description}\n",
       "\n",
       "\\end{Format}\n",
       "%\n",
       "\\begin{Details}\\relax\n",
       "Traffic fatalities are from the US Department of \n",
       "Transportation Fatal Accident Reporting System.  The beer tax is the \n",
       "tax on a case of beer, which is an available measure of state \n",
       "alcohol taxes more generally. The drinking age variable is a factor \n",
       "indicating whether the legal drinking age is 18, 19, or 20.  \n",
       "The two binary punishment variables  describe the state's minimum \n",
       "sentencing requirements for an initial drunk driving conviction. \n",
       "\n",
       "Total vehicle miles traveled annually by state was obtained from \n",
       "the Department of Transportation. Personal income was obtained \n",
       "from the US Bureau of Economic Analysis, and the unemployment \n",
       "rate was obtained from the US Bureau of Labor Statistics.\n",
       "\\end{Details}\n",
       "%\n",
       "\\begin{Source}\\relax\n",
       "Online complements to Stock and Watson (2007). \n",
       "\\end{Source}\n",
       "%\n",
       "\\begin{References}\\relax\n",
       "Ruhm, C. J. (1996). Alcohol Policies and Highway Vehicle Fatalities. \n",
       "\\emph{Journal of Health Economics}, \\bold{15}, 435--454.\n",
       "\n",
       "Stock, J. H. and Watson, M. W. (2007). \\emph{Introduction to Econometrics}, 2nd ed. Boston: Addison Wesley.\n",
       "\\end{References}\n",
       "%\n",
       "\\begin{SeeAlso}\\relax\n",
       "\\code{\\LinkA{StockWatson2007}{StockWatson2007}}\n",
       "\\end{SeeAlso}\n",
       "%\n",
       "\\begin{Examples}\n",
       "\\begin{ExampleCode}\n",
       "## data from Stock and Watson (2007)\n",
       "data(\"Fatalities\", package = \"AER\")\n",
       "## add fatality rate (number of traffic deaths\n",
       "## per 10,000 people living in that state in that year)\n",
       "Fatalities$frate <- with(Fatalities, fatal/pop * 10000)\n",
       "## add discretized version of minimum legal drinking age\n",
       "Fatalities$drinkagec <- cut(Fatalities$drinkage,\n",
       "  breaks = 18:22, include.lowest = TRUE, right = FALSE)\n",
       "Fatalities$drinkagec <- relevel(Fatalities$drinkagec, ref = 4)\n",
       "## any punishment?\n",
       "Fatalities$punish <- with(Fatalities,\n",
       "  factor(jail == \"yes\" | service == \"yes\", labels = c(\"no\", \"yes\")))\n",
       "## plm package\n",
       "library(\"plm\")\n",
       "\n",
       "## for comparability with Stata we use HC1 below\n",
       "## p. 351, Eq. (10.2)\n",
       "f1982 <- subset(Fatalities, year == \"1982\")\n",
       "fm_1982 <- lm(frate ~ beertax, data = f1982)\n",
       "coeftest(fm_1982, vcov = vcovHC(fm_1982, type = \"HC1\"))\n",
       "\n",
       "## p. 353, Eq. (10.3)\n",
       "f1988 <- subset(Fatalities, year == \"1988\")\n",
       "fm_1988 <- lm(frate ~ beertax, data = f1988)\n",
       "coeftest(fm_1988, vcov = vcovHC(fm_1988, type = \"HC1\"))\n",
       "\n",
       "## pp. 355, Eq. (10.8)\n",
       "fm_diff <- lm(I(f1988$frate - f1982$frate) ~ I(f1988$beertax - f1982$beertax))\n",
       "coeftest(fm_diff, vcov = vcovHC(fm_diff, type = \"HC1\"))\n",
       "\n",
       "## pp. 360, Eq. (10.15)\n",
       "##   (1) via formula\n",
       "fm_sfe <- lm(frate ~ beertax + state - 1, data = Fatalities)\n",
       "##   (2) by hand\n",
       "fat <- with(Fatalities,\n",
       "  data.frame(frates = frate - ave(frate, state),\n",
       "  beertaxs = beertax - ave(beertax, state)))\n",
       "fm_sfe2 <- lm(frates ~ beertaxs - 1, data = fat)\n",
       "##   (3) via plm()\n",
       "fm_sfe3 <- plm(frate ~ beertax, data = Fatalities,\n",
       "  index = c(\"state\", \"year\"), model = \"within\")\n",
       "\n",
       "coeftest(fm_sfe, vcov = vcovHC(fm_sfe, type = \"HC1\"))[1,]\n",
       "## uses different df in sd and p-value\n",
       "coeftest(fm_sfe2, vcov = vcovHC(fm_sfe2, type = \"HC1\"))[1,]\n",
       "## uses different df in p-value\n",
       "coeftest(fm_sfe3, vcov = vcovHC(fm_sfe3, type = \"HC1\", method = \"white1\"))[1,]\n",
       "\n",
       "\n",
       "## pp. 363, Eq. (10.21)\n",
       "## via lm()\n",
       "fm_stfe <- lm(frate ~ beertax + state + year - 1, data = Fatalities)\n",
       "coeftest(fm_stfe, vcov = vcovHC(fm_stfe, type = \"HC1\"))[1,]\n",
       "## via plm()\n",
       "fm_stfe2 <- plm(frate ~ beertax, data = Fatalities,\n",
       "  index = c(\"state\", \"year\"), model = \"within\", effect = \"twoways\")\n",
       "coeftest(fm_stfe2, vcov = vcovHC) ## different\n",
       "\n",
       "\n",
       "## p. 368, Table 10.1, numbers refer to cols.\n",
       "fm1 <- plm(frate ~ beertax, data = Fatalities, index = c(\"state\", \"year\"), model = \"pooling\")\n",
       "fm2 <- plm(frate ~ beertax, data = Fatalities, index = c(\"state\", \"year\"), model = \"within\")\n",
       "fm3 <- plm(frate ~ beertax, data = Fatalities, index = c(\"state\", \"year\"), model = \"within\",\n",
       "  effect = \"twoways\")\n",
       "fm4 <- plm(frate ~ beertax + drinkagec + jail + service + miles + unemp + log(income),\n",
       "  data = Fatalities, index = c(\"state\", \"year\"), model = \"within\", effect = \"twoways\")\n",
       "fm5 <- plm(frate ~ beertax + drinkagec + jail + service + miles,\n",
       "  data = Fatalities, index = c(\"state\", \"year\"), model = \"within\", effect = \"twoways\")\n",
       "fm6 <- plm(frate ~ beertax + drinkage + punish + miles + unemp + log(income),\n",
       "  data = Fatalities, index = c(\"state\", \"year\"), model = \"within\", effect = \"twoways\")\n",
       "fm7 <- plm(frate ~ beertax + drinkagec + jail + service + miles + unemp + log(income),\n",
       "  data = Fatalities, index = c(\"state\", \"year\"), model = \"within\", effect = \"twoways\")\n",
       "## summaries not too close, s.e.s generally too small\n",
       "coeftest(fm1, vcov = vcovHC)\n",
       "coeftest(fm2, vcov = vcovHC)\n",
       "coeftest(fm3, vcov = vcovHC)\n",
       "coeftest(fm4, vcov = vcovHC)\n",
       "coeftest(fm5, vcov = vcovHC)\n",
       "coeftest(fm6, vcov = vcovHC)\n",
       "coeftest(fm7, vcov = vcovHC)\n",
       "\n",
       "## TODO: Testing exclusion restrictions\n",
       "\n",
       "\\end{ExampleCode}\n",
       "\\end{Examples}"
      ],
      "text/plain": [
       "Fatalities                 package:AER                 R Documentation\n",
       "\n",
       "_\bU_\bS _\bT_\br_\ba_\bf_\bf_\bi_\bc _\bF_\ba_\bt_\ba_\bl_\bi_\bt_\bi_\be_\bs\n",
       "\n",
       "_\bD_\be_\bs_\bc_\br_\bi_\bp_\bt_\bi_\bo_\bn:\n",
       "\n",
       "     US traffic fatalities panel data for the “lower 48” US states\n",
       "     (i.e., excluding Alaska and Hawaii), annually for 1982 through\n",
       "     1988.\n",
       "\n",
       "_\bU_\bs_\ba_\bg_\be:\n",
       "\n",
       "     data(\"Fatalities\")\n",
       "     \n",
       "_\bF_\bo_\br_\bm_\ba_\bt:\n",
       "\n",
       "     A data frame containing 336 observations on 34 variables.\n",
       "\n",
       "     state factor indicating state.\n",
       "\n",
       "     year factor indicating year.\n",
       "\n",
       "     spirits numeric. Spirits consumption.\n",
       "\n",
       "     unemp numeric. Unemployment rate.\n",
       "\n",
       "     income numeric. Per capita personal income in 1987 dollars.\n",
       "\n",
       "     emppop numeric. Employment/population ratio.\n",
       "\n",
       "     beertax numeric. Tax on case of beer.\n",
       "\n",
       "     baptist numeric. Percent of southern baptist.\n",
       "\n",
       "     mormon numeric. Percent of mormon.\n",
       "\n",
       "     drinkage numeric. Minimum legal drinking age.\n",
       "\n",
       "     dry numeric. Percent residing in “dry” countries.\n",
       "\n",
       "     youngdrivers numeric. Percent of drivers aged 15-24.\n",
       "\n",
       "     miles numeric. Average miles per driver.\n",
       "\n",
       "     breath factor. Preliminary breath test law?\n",
       "\n",
       "     jail factor. Mandatory jail sentence?\n",
       "\n",
       "     service factor. Mandatory community service?\n",
       "\n",
       "     fatal numeric. Number of vehicle fatalities.\n",
       "\n",
       "     nfatal numeric. Number of night-time vehicle fatalities.\n",
       "\n",
       "     sfatal numeric. Number of single vehicle fatalities.\n",
       "\n",
       "     fatal1517 numeric. Number of vehicle fatalities, 15-17 year olds.\n",
       "\n",
       "     nfatal1517 numeric. Number of night-time vehicle fatalities, 15-17\n",
       "          year olds.\n",
       "\n",
       "     fatal1820 numeric. Number of vehicle fatalities, 18-20 year olds.\n",
       "\n",
       "     nfatal1820 numeric. Number of night-time vehicle fatalities, 18-20\n",
       "          year olds.\n",
       "\n",
       "     fatal2124 numeric. Number of vehicle fatalities, 21-24 year olds.\n",
       "\n",
       "     nfatal2124 numeric. Number of night-time vehicle fatalities, 21-24\n",
       "          year olds.\n",
       "\n",
       "     afatal numeric. Number of alcohol-involved vehicle fatalities.\n",
       "\n",
       "     pop numeric. Population.\n",
       "\n",
       "     pop1517 numeric. Population, 15-17 year olds.\n",
       "\n",
       "     pop1820 numeric. Population, 18-20 year olds.\n",
       "\n",
       "     pop2124 numeric. Population, 21-24 year olds.\n",
       "\n",
       "     milestot numeric. Total vehicle miles (millions).\n",
       "\n",
       "     unempus numeric. US unemployment rate.\n",
       "\n",
       "     emppopus numeric. US employment/population ratio.\n",
       "\n",
       "     gsp numeric. GSP rate of change.\n",
       "\n",
       "_\bD_\be_\bt_\ba_\bi_\bl_\bs:\n",
       "\n",
       "     Traffic fatalities are from the US Department of Transportation\n",
       "     Fatal Accident Reporting System.  The beer tax is the tax on a\n",
       "     case of beer, which is an available measure of state alcohol taxes\n",
       "     more generally. The drinking age variable is a factor indicating\n",
       "     whether the legal drinking age is 18, 19, or 20.  The two binary\n",
       "     punishment variables describe the state's minimum sentencing\n",
       "     requirements for an initial drunk driving conviction.\n",
       "\n",
       "     Total vehicle miles traveled annually by state was obtained from\n",
       "     the Department of Transportation. Personal income was obtained\n",
       "     from the US Bureau of Economic Analysis, and the unemployment rate\n",
       "     was obtained from the US Bureau of Labor Statistics.\n",
       "\n",
       "_\bS_\bo_\bu_\br_\bc_\be:\n",
       "\n",
       "     Online complements to Stock and Watson (2007).\n",
       "\n",
       "_\bR_\be_\bf_\be_\br_\be_\bn_\bc_\be_\bs:\n",
       "\n",
       "     Ruhm, C. J. (1996). Alcohol Policies and Highway Vehicle\n",
       "     Fatalities.  _Journal of Health Economics_, *15*, 435-454.\n",
       "\n",
       "     Stock, J. H. and Watson, M. W. (2007). _Introduction to\n",
       "     Econometrics_, 2nd ed. Boston: Addison Wesley.\n",
       "\n",
       "_\bS_\be_\be _\bA_\bl_\bs_\bo:\n",
       "\n",
       "     ‘StockWatson2007’\n",
       "\n",
       "_\bE_\bx_\ba_\bm_\bp_\bl_\be_\bs:\n",
       "\n",
       "     ## data from Stock and Watson (2007)\n",
       "     data(\"Fatalities\", package = \"AER\")\n",
       "     ## add fatality rate (number of traffic deaths\n",
       "     ## per 10,000 people living in that state in that year)\n",
       "     Fatalities$frate <- with(Fatalities, fatal/pop * 10000)\n",
       "     ## add discretized version of minimum legal drinking age\n",
       "     Fatalities$drinkagec <- cut(Fatalities$drinkage,\n",
       "       breaks = 18:22, include.lowest = TRUE, right = FALSE)\n",
       "     Fatalities$drinkagec <- relevel(Fatalities$drinkagec, ref = 4)\n",
       "     ## any punishment?\n",
       "     Fatalities$punish <- with(Fatalities,\n",
       "       factor(jail == \"yes\" | service == \"yes\", labels = c(\"no\", \"yes\")))\n",
       "     ## plm package\n",
       "     library(\"plm\")\n",
       "     \n",
       "     ## for comparability with Stata we use HC1 below\n",
       "     ## p. 351, Eq. (10.2)\n",
       "     f1982 <- subset(Fatalities, year == \"1982\")\n",
       "     fm_1982 <- lm(frate ~ beertax, data = f1982)\n",
       "     coeftest(fm_1982, vcov = vcovHC(fm_1982, type = \"HC1\"))\n",
       "     \n",
       "     ## p. 353, Eq. (10.3)\n",
       "     f1988 <- subset(Fatalities, year == \"1988\")\n",
       "     fm_1988 <- lm(frate ~ beertax, data = f1988)\n",
       "     coeftest(fm_1988, vcov = vcovHC(fm_1988, type = \"HC1\"))\n",
       "     \n",
       "     ## pp. 355, Eq. (10.8)\n",
       "     fm_diff <- lm(I(f1988$frate - f1982$frate) ~ I(f1988$beertax - f1982$beertax))\n",
       "     coeftest(fm_diff, vcov = vcovHC(fm_diff, type = \"HC1\"))\n",
       "     \n",
       "     ## pp. 360, Eq. (10.15)\n",
       "     ##   (1) via formula\n",
       "     fm_sfe <- lm(frate ~ beertax + state - 1, data = Fatalities)\n",
       "     ##   (2) by hand\n",
       "     fat <- with(Fatalities,\n",
       "       data.frame(frates = frate - ave(frate, state),\n",
       "       beertaxs = beertax - ave(beertax, state)))\n",
       "     fm_sfe2 <- lm(frates ~ beertaxs - 1, data = fat)\n",
       "     ##   (3) via plm()\n",
       "     fm_sfe3 <- plm(frate ~ beertax, data = Fatalities,\n",
       "       index = c(\"state\", \"year\"), model = \"within\")\n",
       "     \n",
       "     coeftest(fm_sfe, vcov = vcovHC(fm_sfe, type = \"HC1\"))[1,]\n",
       "     ## uses different df in sd and p-value\n",
       "     coeftest(fm_sfe2, vcov = vcovHC(fm_sfe2, type = \"HC1\"))[1,]\n",
       "     ## uses different df in p-value\n",
       "     coeftest(fm_sfe3, vcov = vcovHC(fm_sfe3, type = \"HC1\", method = \"white1\"))[1,]\n",
       "     \n",
       "     \n",
       "     ## pp. 363, Eq. (10.21)\n",
       "     ## via lm()\n",
       "     fm_stfe <- lm(frate ~ beertax + state + year - 1, data = Fatalities)\n",
       "     coeftest(fm_stfe, vcov = vcovHC(fm_stfe, type = \"HC1\"))[1,]\n",
       "     ## via plm()\n",
       "     fm_stfe2 <- plm(frate ~ beertax, data = Fatalities,\n",
       "       index = c(\"state\", \"year\"), model = \"within\", effect = \"twoways\")\n",
       "     coeftest(fm_stfe2, vcov = vcovHC) ## different\n",
       "     \n",
       "     \n",
       "     ## p. 368, Table 10.1, numbers refer to cols.\n",
       "     fm1 <- plm(frate ~ beertax, data = Fatalities, index = c(\"state\", \"year\"), model = \"pooling\")\n",
       "     fm2 <- plm(frate ~ beertax, data = Fatalities, index = c(\"state\", \"year\"), model = \"within\")\n",
       "     fm3 <- plm(frate ~ beertax, data = Fatalities, index = c(\"state\", \"year\"), model = \"within\",\n",
       "       effect = \"twoways\")\n",
       "     fm4 <- plm(frate ~ beertax + drinkagec + jail + service + miles + unemp + log(income),\n",
       "       data = Fatalities, index = c(\"state\", \"year\"), model = \"within\", effect = \"twoways\")\n",
       "     fm5 <- plm(frate ~ beertax + drinkagec + jail + service + miles,\n",
       "       data = Fatalities, index = c(\"state\", \"year\"), model = \"within\", effect = \"twoways\")\n",
       "     fm6 <- plm(frate ~ beertax + drinkage + punish + miles + unemp + log(income),\n",
       "       data = Fatalities, index = c(\"state\", \"year\"), model = \"within\", effect = \"twoways\")\n",
       "     fm7 <- plm(frate ~ beertax + drinkagec + jail + service + miles + unemp + log(income),\n",
       "       data = Fatalities, index = c(\"state\", \"year\"), model = \"within\", effect = \"twoways\")\n",
       "     ## summaries not too close, s.e.s generally too small\n",
       "     coeftest(fm1, vcov = vcovHC)\n",
       "     coeftest(fm2, vcov = vcovHC)\n",
       "     coeftest(fm3, vcov = vcovHC)\n",
       "     coeftest(fm4, vcov = vcovHC)\n",
       "     coeftest(fm5, vcov = vcovHC)\n",
       "     coeftest(fm6, vcov = vcovHC)\n",
       "     coeftest(fm7, vcov = vcovHC)\n",
       "     \n",
       "     ## TODO: Testing exclusion restrictions\n",
       "     "
      ]
     },
     "metadata": {},
     "output_type": "display_data"
    }
   ],
   "source": [
    "data(\"Fatalities\")  # Base de datos importada desde la libreria AER\n",
    "help(\"Fatalities\") "
   ]
  },
  {
   "cell_type": "markdown",
   "metadata": {},
   "source": [
    "Para usar la función glimpse es necesario cargar el paquete dplyr."
   ]
  },
  {
   "cell_type": "code",
   "execution_count": 4,
   "metadata": {},
   "outputs": [],
   "source": [
    "# class(Fatalities) # Se importa la base de datos como un data frame\n",
    "# dim(Fatalities) # Da las dimensiones del data frame (336 obs y 34 variables)\n"
   ]
  },
  {
   "cell_type": "markdown",
   "metadata": {
    "lines_to_next_cell": 0
   },
   "source": [
    "Se indeca la base de datos \"Fatalities\" en formato panel: "
   ]
  },
  {
   "cell_type": "code",
   "execution_count": 5,
   "metadata": {
    "lines_to_next_cell": 0
   },
   "outputs": [
    {
     "data": {
      "text/html": [
       "<style>\n",
       ".list-inline {list-style: none; margin:0; padding: 0}\n",
       ".list-inline>li {display: inline-block}\n",
       ".list-inline>li:not(:last-child)::after {content: \"\\00b7\"; padding: 0 .5ex}\n",
       "</style>\n",
       "<ol class=list-inline><li>'pdata.frame'</li><li>'data.frame'</li></ol>\n"
      ],
      "text/latex": [
       "\\begin{enumerate*}\n",
       "\\item 'pdata.frame'\n",
       "\\item 'data.frame'\n",
       "\\end{enumerate*}\n"
      ],
      "text/markdown": [
       "1. 'pdata.frame'\n",
       "2. 'data.frame'\n",
       "\n",
       "\n"
      ],
      "text/plain": [
       "[1] \"pdata.frame\" \"data.frame\" "
      ]
     },
     "metadata": {},
     "output_type": "display_data"
    }
   ],
   "source": [
    "Panel= pdata.frame(Fatalities, index = c(\"state\",\"year\"))\n",
    "\n",
    "attach(Panel)\n",
    "class(Panel)   # el objeto ahora es un tipo especial de data frame llamado pdata.frame\n",
    "#help(\"pdata.frame\")"
   ]
  },
  {
   "cell_type": "markdown",
   "metadata": {
    "lines_to_next_cell": 0
   },
   "source": [
    "Hay que tener en cuenta la estructura del código para indexar como panel la base: \n",
    "\n",
    "+ *Nombre <- pdata.frame(Base_datos, index=c(\"Variable del individuo\",\"Variable de tiempo\"))*\n",
    "\n",
    "Primero va la variable indicativa del individuo y luego la variable indicativa del tiempo. \n",
    "\n",
    "La base de datos a emplear tiene la siguiente descripción: \n",
    "\n",
    "+ US traffic fatalities panel data for the \"lower 48\" US states (i.e., excluding Alaska and Hawaii), annually for 1982 through 1988 state and year are the individual and time index respectively\n",
    "\n",
    "Se define la tasa de mortalidad como:"
   ]
  },
  {
   "cell_type": "code",
   "execution_count": 6,
   "metadata": {
    "lines_to_next_cell": 0
   },
   "outputs": [],
   "source": [
    "Panel$fatal_rate <- Fatalities$fatal / Fatalities$pop * 100"
   ]
  },
  {
   "cell_type": "code",
   "execution_count": 7,
   "metadata": {},
   "outputs": [],
   "source": [
    "#Para extraer una variable del panel (e.g. pop de Panel)\n",
    "#Panel$pop    #La extracción de una variable es igual que para un data frame normal \n",
    "#La extracción incluye los dos indices del panel para cada observación              \n",
    "\n",
    "# Para extraer solo los indices de cada observación del panel \n",
    "#index(Panel)  # Retorna un df cuyas dos variables son los dos índices\n"
   ]
  },
  {
   "cell_type": "markdown",
   "metadata": {
    "lines_to_next_cell": 0
   },
   "source": [
    "Para conocer las dimensiones del panel y determinar si un panel está balanceado, se emplea el comando pdim"
   ]
  },
  {
   "cell_type": "code",
   "execution_count": 8,
   "metadata": {},
   "outputs": [
    {
     "data": {
      "text/plain": [
       "Balanced Panel: n = 48, T = 7, N = 336"
      ]
     },
     "metadata": {},
     "output_type": "display_data"
    }
   ],
   "source": [
    "pdim(Panel)"
   ]
  },
  {
   "cell_type": "markdown",
   "metadata": {},
   "source": [
    "Con la siguiente función se identifica a aquellas variables que cambian a lo largo del tiempo (pero que son constantes para todos los individuos) y aquellas variables que cambian entre individuos (pero que son constantes a lo largo del tiempo)"
   ]
  },
  {
   "cell_type": "code",
   "execution_count": 9,
   "metadata": {},
   "outputs": [
    {
     "data": {
      "text/plain": [
       "no time variation:       state \n",
       "no individual variation: year unempus emppopus "
      ]
     },
     "metadata": {},
     "output_type": "display_data"
    }
   ],
   "source": [
    "pvar(Panel)"
   ]
  },
  {
   "cell_type": "markdown",
   "metadata": {
    "lines_to_next_cell": 0
   },
   "source": [
    "# Estimación de modelos para datos panel \n",
    "\n",
    "Para estimar los distintos modelos de datos panel se utiliza el comando ***plm***. La estructura del codigo es bastante sencilla: \n",
    "\n",
    "+ *plm(Var_explicada~ Var_explicativas, data=\"---\", model=\"---\", index=c(\"Var_individuo\",\"Var_tiempo\"))\n",
    "\n",
    "Para *model* se puede elegir entre Efectos fijos(**within**), Efectos Aleatorios (**random**) y Mínimos Cuadrados Combinados(**pooling**)\n",
    "    \n",
    "Directamente en el código también se puede indexar la base de datos, en caso de que no se le haya indicado antes a RStudioque la base de datos es un panel. \n",
    "    \n",
    "## Minimos Cuadrados Combinados \n",
    "Para estimar un modelo de Mínimos Cuadrados Combinados el tipo de modelo es *\"pooling*"
   ]
  },
  {
   "cell_type": "code",
   "execution_count": 10,
   "metadata": {
    "lines_to_next_cell": 2
   },
   "outputs": [],
   "source": [
    "fatalities_pooled <- plm(fatal_rate~ beertax +drinkage + unemp + log(income), \n",
    "                         index = c(\"state\", \"year\"),\n",
    "                         model = \"pooling\",\n",
    "                         data = Panel)\n",
    "\n"
   ]
  },
  {
   "cell_type": "markdown",
   "metadata": {
    "lines_to_next_cell": 0
   },
   "source": [
    "## Efectos fijos \n",
    "Para estimar un modelo de Efectos fijos el tipo de modelo es *\"within\"*"
   ]
  },
  {
   "cell_type": "code",
   "execution_count": 11,
   "metadata": {},
   "outputs": [],
   "source": [
    "fatalities_FE <- plm(fatal_rate ~ beertax +drinkage + unemp + log(income), \n",
    "                     index = c(\"state\", \"year\"),\n",
    "                     model = \"within\",\n",
    "                     data = Panel)\n"
   ]
  },
  {
   "cell_type": "markdown",
   "metadata": {},
   "source": [
    "## Efectos aleatorios\n",
    "Para estimar un modelo de Efectos aleatorios el tipo de modelo es *\"Random\"* "
   ]
  },
  {
   "cell_type": "code",
   "execution_count": 12,
   "metadata": {},
   "outputs": [],
   "source": [
    "fatalities_EA <- plm(fatal_rate ~ beertax +drinkage + unemp + log(income), \n",
    "                     index = c(\"state\", \"year\"),\n",
    "                     model = \"random\",\n",
    "                     data = Panel)\n"
   ]
  },
  {
   "cell_type": "markdown",
   "metadata": {
    "lines_to_next_cell": 0
   },
   "source": [
    "El $\\theta$ se puede calcular despejando de la formula teórica de la transformación que se realiza con Efectos Aleatorios. \n",
    "\n",
    "$$ \\hat{\\theta_{it}}= \\frac{y_{it}-\\hat{y_{it}}-\\hat{u_{it}}}{\\overline{y}}  $$\n",
    "Luego, el $\\theta$ para este ejemplo es: "
   ]
  },
  {
   "cell_type": "code",
   "execution_count": 13,
   "metadata": {},
   "outputs": [
    {
     "data": {
      "text/html": [
       "<style>\n",
       ".dl-inline {width: auto; margin:0; padding: 0}\n",
       ".dl-inline>dt, .dl-inline>dd {float: none; width: auto; display: inline-block}\n",
       ".dl-inline>dt::after {content: \":\\0020\"; padding-right: .5ex}\n",
       ".dl-inline>dt:not(:first-of-type) {padding-left: .5ex}\n",
       "</style><dl class=dl-inline><dt>al</dt><dd>0.00179742862639012</dd><dt>al</dt><dd>0.00217462699521334</dd><dt>al</dt><dd>0.00310568374125751</dd><dt>al</dt><dd>0.00380939024384353</dd><dt>al</dt><dd>0.00311373782355044</dd><dt>al</dt><dd>0.00384138326572615</dd><dt>al</dt><dd>0.00395669519885701</dd></dl>\n"
      ],
      "text/latex": [
       "\\begin{description*}\n",
       "\\item[al] 0.00179742862639012\n",
       "\\item[al] 0.00217462699521334\n",
       "\\item[al] 0.00310568374125751\n",
       "\\item[al] 0.00380939024384353\n",
       "\\item[al] 0.00311373782355044\n",
       "\\item[al] 0.00384138326572615\n",
       "\\item[al] 0.00395669519885701\n",
       "\\end{description*}\n"
      ],
      "text/markdown": [
       "al\n",
       ":   0.00179742862639012al\n",
       ":   0.00217462699521334al\n",
       ":   0.00310568374125751al\n",
       ":   0.00380939024384353al\n",
       ":   0.00311373782355044al\n",
       ":   0.00384138326572615al\n",
       ":   0.00395669519885701\n",
       "\n"
      ],
      "text/plain": [
       "         al          al          al          al          al          al \n",
       "0.001797429 0.002174627 0.003105684 0.003809390 0.003113738 0.003841383 \n",
       "         al \n",
       "0.003956695 "
      ]
     },
     "metadata": {},
     "output_type": "display_data"
    },
    {
     "name": "stderr",
     "output_type": "stream",
     "text": [
      "The following objects are masked from Panel (pos = 3):\n",
      "\n",
      "    afatal, baptist, beertax, breath, drinkage, dry, emppop, emppopus,\n",
      "    fatal, fatal1517, fatal1820, fatal2124, gsp, income, jail, miles,\n",
      "    milestot, mormon, nfatal, nfatal1517, nfatal1820, nfatal2124, pop,\n",
      "    pop1517, pop1820, pop2124, service, sfatal, spirits, state, unemp,\n",
      "    unempus, year, youngdrivers\n",
      "\n",
      "\n"
     ]
    },
    {
     "data": {
      "text/html": [
       "<style>\n",
       ".list-inline {list-style: none; margin:0; padding: 0}\n",
       ".list-inline>li {display: inline-block}\n",
       ".list-inline>li:not(:last-child)::after {content: \"\\00b7\"; padding: 0 .5ex}\n",
       "</style>\n",
       "<ol class=list-inline><li>0.0212836002313291</li><li>0.023484801040806</li><li>0.023364300013907</li><li>0.021934799802363</li><li>0.0266913992151222</li><li>0.0271858993842516</li><li>0.0249391012379411</li></ol>\n"
      ],
      "text/latex": [
       "\\begin{enumerate*}\n",
       "\\item 0.0212836002313291\n",
       "\\item 0.023484801040806\n",
       "\\item 0.023364300013907\n",
       "\\item 0.021934799802363\n",
       "\\item 0.0266913992151222\n",
       "\\item 0.0271858993842516\n",
       "\\item 0.0249391012379411\n",
       "\\end{enumerate*}\n"
      ],
      "text/markdown": [
       "1. 0.0212836002313291\n",
       "2. 0.023484801040806\n",
       "3. 0.023364300013907\n",
       "4. 0.021934799802363\n",
       "5. 0.0266913992151222\n",
       "6. 0.0271858993842516\n",
       "7. 0.0249391012379411\n",
       "\n",
       "\n"
      ],
      "text/plain": [
       "[1] 0.0212836 0.0234848 0.0233643 0.0219348 0.0266914 0.0271859 0.0249391"
      ]
     },
     "metadata": {},
     "output_type": "display_data"
    },
    {
     "data": {
      "text/html": [
       "0.0241262715608172"
      ],
      "text/latex": [
       "0.0241262715608172"
      ],
      "text/markdown": [
       "0.0241262715608172"
      ],
      "text/plain": [
       "[1] 0.02412627"
      ]
     },
     "metadata": {},
     "output_type": "display_data"
    },
    {
     "data": {
      "text/html": [
       "<style>\n",
       ".dl-inline {width: auto; margin:0; padding: 0}\n",
       ".dl-inline>dt, .dl-inline>dd {float: none; width: auto; display: inline-block}\n",
       ".dl-inline>dt::after {content: \":\\0020\"; padding-right: .5ex}\n",
       ".dl-inline>dt:not(:first-of-type) {padding-left: .5ex}\n",
       "</style><dl class=dl-inline><dt>al-1982</dt><dd>-0.000952529242438941</dd><dt>al-1983</dt><dd>0.000871473198214689</dd><dt>al-1984</dt><dd>-0.000180084574728444</dd><dt>al-1985</dt><dd>-0.00231329128885851</dd><dt>al-1986</dt><dd>0.00313896054419385</dd><dt>al-1987</dt><dd>0.00290581527114752</dd><dt>al-1988</dt><dd>0.000543705191706185</dd></dl>\n"
      ],
      "text/latex": [
       "\\begin{description*}\n",
       "\\item[al-1982] -0.000952529242438941\n",
       "\\item[al-1983] 0.000871473198214689\n",
       "\\item[al-1984] -0.000180084574728444\n",
       "\\item[al-1985] -0.00231329128885851\n",
       "\\item[al-1986] 0.00313896054419385\n",
       "\\item[al-1987] 0.00290581527114752\n",
       "\\item[al-1988] 0.000543705191706185\n",
       "\\end{description*}\n"
      ],
      "text/markdown": [
       "al-1982\n",
       ":   -0.000952529242438941al-1983\n",
       ":   0.000871473198214689al-1984\n",
       ":   -0.000180084574728444al-1985\n",
       ":   -0.00231329128885851al-1986\n",
       ":   0.00313896054419385al-1987\n",
       ":   0.00290581527114752al-1988\n",
       ":   0.000543705191706185\n",
       "\n"
      ],
      "text/plain": [
       "      al-1982       al-1983       al-1984       al-1985       al-1986 \n",
       "-0.0009525292  0.0008714732 -0.0001800846 -0.0023132913  0.0031389605 \n",
       "      al-1987       al-1988 \n",
       " 0.0029058153  0.0005437052 "
      ]
     },
     "metadata": {},
     "output_type": "display_data"
    },
    {
     "data": {
      "text/html": [
       "<style>\n",
       ".dl-inline {width: auto; margin:0; padding: 0}\n",
       ".dl-inline>dt, .dl-inline>dd {float: none; width: auto; display: inline-block}\n",
       ".dl-inline>dt::after {content: \":\\0020\"; padding-right: .5ex}\n",
       ".dl-inline>dt:not(:first-of-type) {padding-left: .5ex}\n",
       "</style><dl class=dl-inline><dt>al</dt><dd>0.847155383949666</dd><dt>al</dt><dd>0.847155383949665</dd><dt>al</dt><dd>0.847155383949665</dd><dt>al</dt><dd>0.847155383949665</dd><dt>al</dt><dd>0.847155383949665</dd><dt>al</dt><dd>0.847155383949665</dd><dt>al</dt><dd>0.847155383949665</dd></dl>\n"
      ],
      "text/latex": [
       "\\begin{description*}\n",
       "\\item[al] 0.847155383949666\n",
       "\\item[al] 0.847155383949665\n",
       "\\item[al] 0.847155383949665\n",
       "\\item[al] 0.847155383949665\n",
       "\\item[al] 0.847155383949665\n",
       "\\item[al] 0.847155383949665\n",
       "\\item[al] 0.847155383949665\n",
       "\\end{description*}\n"
      ],
      "text/markdown": [
       "al\n",
       ":   0.847155383949666al\n",
       ":   0.847155383949665al\n",
       ":   0.847155383949665al\n",
       ":   0.847155383949665al\n",
       ":   0.847155383949665al\n",
       ":   0.847155383949665al\n",
       ":   0.847155383949665\n",
       "\n"
      ],
      "text/plain": [
       "       al        al        al        al        al        al        al \n",
       "0.8471554 0.8471554 0.8471554 0.8471554 0.8471554 0.8471554 0.8471554 "
      ]
     },
     "metadata": {},
     "output_type": "display_data"
    }
   ],
   "source": [
    "fitted.values(fatalities_EA)[1:7] #valores ajustados de Y para el primer individuo\n",
    "attach(Panel)\n",
    "fatal_rate[1:7]#valores observados de Y para el primer individuo\n",
    "mean(fatal_rate[1:7]) #valor promedio de Y para el primer individuo\n",
    "residuals(fatalities_EA)[1:7] #Residuales para el primer individuo\n",
    "theta = (fatal_rate[1:7]-fitted.values(fatalities_EA)[1:7]-residuals(fatalities_EA)[1:7])/mean(fatal_rate[1:7])\n",
    "theta\n"
   ]
  },
  {
   "cell_type": "markdown",
   "metadata": {},
   "source": [
    "## Primeras diferencias\n",
    "Para estimar un modelo de Primeras diferencias el tipo de modelo es *\"fd\"* "
   ]
  },
  {
   "cell_type": "code",
   "execution_count": 14,
   "metadata": {},
   "outputs": [],
   "source": [
    "fatalities_FD <- plm(fatal_rate ~ beertax +drinkage + unemp + log(income), \n",
    "                     index = c(\"state\", \"year\"),\n",
    "                     model = \"fd\",\n",
    "                     data = Panel)"
   ]
  },
  {
   "cell_type": "markdown",
   "metadata": {
    "lines_to_next_cell": 0
   },
   "source": [
    "Para presentar los resultados se hace uso de la función Stargazer"
   ]
  },
  {
   "cell_type": "code",
   "execution_count": 15,
   "metadata": {},
   "outputs": [
    {
     "name": "stdout",
     "output_type": "stream",
     "text": [
      "\n",
      "Modelo de catástrofes de tránsito por conducir en estado de ebriedad\n",
      "==============================================================================================\n",
      "                                            Dependent variable:                               \n",
      "             ---------------------------------------------------------------------------------\n",
      "                                                fatal_rate                                    \n",
      "                     Pooled                    EF                RE               PD          \n",
      "                       (1)                     (2)              (3)              (4)          \n",
      "----------------------------------------------------------------------------------------------\n",
      "beertax              0.001*                  -0.004*           0.001            0.001         \n",
      "                     (0.001)                 (0.002)          (0.001)          (0.003)        \n",
      "                                                                                              \n",
      "drinkage             -0.0001                -0.0004*          -0.0002          -0.0001        \n",
      "                    (0.0003)                (0.0002)          (0.0002)         (0.0003)       \n",
      "                                                                                              \n",
      "unemp               -0.0003**                -0.0002         -0.0004***        -0.00000       \n",
      "                    (0.0001)                (0.0001)          (0.0001)         (0.0001)       \n",
      "                                                                                              \n",
      "log(income)         -0.019***                0.006*            -0.003          0.032***       \n",
      "                     (0.002)                 (0.004)          (0.003)          (0.006)        \n",
      "                                                                                              \n",
      "Constant            0.209***                                   0.054*         -0.001***       \n",
      "                     (0.023)                                  (0.031)          (0.0002)       \n",
      "                                                                                              \n",
      "----------------------------------------------------------------------------------------------\n",
      "Observations           336                     336              336              288          \n",
      "R2                    0.277                   0.125            0.070            0.104         \n",
      "Adjusted R2           0.268                  -0.032            0.059            0.091         \n",
      "F Statistic  31.651*** (df = 4; 331) 10.176*** (df = 4; 284) 24.916***  8.170*** (df = 4; 283)\n",
      "==============================================================================================\n",
      "Note:                                                              *p<0.1; **p<0.05; ***p<0.01\n"
     ]
    }
   ],
   "source": [
    "stargazer(fatalities_pooled,fatalities_FE, fatalities_EA, fatalities_FD, digits = 3,\n",
    "          header = F, type = \"text\", \n",
    "          title = \"Modelo de catástrofes de tránsito por conducir en estado de ebriedad\", \n",
    "          column.labels = c(\"Pooled\",\"EF\",\"RE\",\"PD\"))\n"
   ]
  },
  {
   "cell_type": "markdown",
   "metadata": {},
   "source": [
    "Llegados a este punto, los elementos abordados fueron: i) identificar la forma como se indexa una base de datos en formato panel;ii) estimar los modelos de datos panel de EF, EA, PD y Pooling utilizando el comando ***plm***;y, iii) presentar los resultados por medio de la función stargazer.\n",
    "\n",
    " "
   ]
  }
 ],
 "metadata": {
  "jupytext": {
   "cell_metadata_filter": "tags,message,name,-all",
   "main_language": "R",
   "notebook_metadata_filter": "-all"
  },
  "kernelspec": {
   "display_name": "R",
   "language": "R",
   "name": "ir"
  },
  "language_info": {
   "codemirror_mode": "r",
   "file_extension": ".r",
   "mimetype": "text/x-r-source",
   "name": "R",
   "pygments_lexer": "r",
   "version": "3.6.3"
  }
 },
 "nbformat": 4,
 "nbformat_minor": 4
}
